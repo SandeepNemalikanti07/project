{
  "nbformat": 4,
  "nbformat_minor": 0,
  "metadata": {
    "colab": {
      "provenance": [],
      "authorship_tag": "ABX9TyOq5wf1QJ0uC28UFIFhkDoW",
      "include_colab_link": true
    },
    "kernelspec": {
      "name": "python3",
      "display_name": "Python 3"
    },
    "language_info": {
      "name": "python"
    }
  },
  "cells": [
    {
      "cell_type": "markdown",
      "metadata": {
        "id": "view-in-github",
        "colab_type": "text"
      },
      "source": [
        "<a href=\"https://colab.research.google.com/github/SandeepNemalikanti07/project/blob/main/PYTHON_PROJECTS.ipynb\" target=\"_parent\"><img src=\"https://colab.research.google.com/assets/colab-badge.svg\" alt=\"Open In Colab\"/></a>"
      ]
    },
    {
      "cell_type": "markdown",
      "source": [
        "1.Restaurant Billing System:\n",
        "Write a Python program to calculate the total bill for a\n",
        "customer. The program should ask for the cost of\n",
        "individual items, apply a 10% service charge, and\n",
        "calculate the total.\n"
      ],
      "metadata": {
        "id": "cmmU8fRIvKYn"
      }
    },
    {
      "cell_type": "code",
      "execution_count": null,
      "metadata": {
        "colab": {
          "base_uri": "https://localhost:8080/"
        },
        "id": "RV0SFy_cvJv1",
        "outputId": "3b93358e-fcdc-49f5-ada3-b00fe978f879"
      },
      "outputs": [
        {
          "output_type": "stream",
          "name": "stdout",
          "text": [
            "Enter the number of items: 4\n",
            "Enter price of item 1: ₹200\n",
            "Enter price of item 2: ₹300\n",
            "Enter price of item 3: ₹250\n",
            "Enter price of item 4: ₹400\n",
            "\n",
            "----- BILL -----\n",
            "Subtotal: ₹ 1150.0\n",
            "Service Charge (10%): ₹ 115.0\n",
            "Total Bill: ₹ 1265.0\n"
          ]
        }
      ],
      "source": [
        "# Ask user how many items they are purchasing\n",
        "num_items = int(input(\"Enter the number of items: \"))\n",
        "\n",
        "# Initialize subtotal\n",
        "subtotal = 0\n",
        "\n",
        "# Get cost of each item and add to subtotal\n",
        "for i in range(num_items):\n",
        "    price = float(input(f\"Enter price of item {i+1}: ₹\"))\n",
        "    subtotal += price\n",
        "\n",
        "# Calculate service charge (10%)\n",
        "service_charge = subtotal * 0.10\n",
        "\n",
        "# Calculate total bill\n",
        "total = subtotal + service_charge\n",
        "\n",
        "# Print the bill\n",
        "print(\"\\n----- BILL -----\")\n",
        "print(\"Subtotal: ₹\", round(subtotal, 2))\n",
        "print(\"Service Charge (10%): ₹\", round(service_charge, 2))\n",
        "print(\"Total Bill: ₹\", round(total, 2))\n"
      ]
    },
    {
      "cell_type": "markdown",
      "source": [
        "2.Simple ATM Machine:\n",
        "Create a Python program that simulates an ATM machine with\n",
        "basic functionalities. The program should allow the user to\n",
        "check their account balance, deposit money, or withdraw\n",
        "funds. It should start with an initial balance of 1000. The user\n",
        "can perform these actions in a loop until they choose to exit.\n",
        "When attempting to withdraw money, the program should\n",
        "ensure that the user does not exceed the available balance and\n",
        "display an appropriate message in case of insufficient funds"
      ],
      "metadata": {
        "id": "ocW_75hPwnnS"
      }
    },
    {
      "cell_type": "code",
      "source": [
        "# Initial balance\n",
        "balance = 1000\n",
        "\n",
        "while True:\n",
        "    # Display menu\n",
        "    print(\"\\n----- ATM MENU -----\")\n",
        "    print(\"1. Check Balance\")\n",
        "    print(\"2. Deposit Money\")\n",
        "    print(\"3. Withdraw Money\")\n",
        "    print(\"4. Exit\")\n",
        "\n",
        "    choice = input(\"Choose an option (1-4): \")\n",
        "\n",
        "    if choice == '1':\n",
        "        print(\"Your current balance is: ₹\", balance)\n",
        "\n",
        "    elif choice == '2':\n",
        "        deposit = float(input(\"Enter amount to deposit: ₹\"))\n",
        "        if deposit > 0:\n",
        "            balance += deposit\n",
        "            print(\"₹\", deposit, \"has been deposited.\")\n",
        "        else:\n",
        "            print(\"Invalid deposit amount.\")\n",
        "\n",
        "    elif choice == '3':\n",
        "        withdraw = float(input(\"Enter amount to withdraw: ₹\"))\n",
        "        if withdraw <= balance and withdraw > 0:\n",
        "            balance -= withdraw\n",
        "            print(\"₹\", withdraw, \"has been withdrawn.\")\n",
        "        elif withdraw <= 0:\n",
        "            print(\"Invalid withdrawal amount.\")\n",
        "        else:\n",
        "            print(\"Insufficient funds. Your balance is ₹\", balance)\n",
        "\n",
        "    elif choice == '4':\n",
        "        print(\"Thank you for using the ATM. Goodbye!\")\n",
        "        break\n",
        "\n",
        "    else:\n",
        "        print(\"Invalid option. Please choose 1-4.\")\n"
      ],
      "metadata": {
        "colab": {
          "base_uri": "https://localhost:8080/"
        },
        "id": "X99lVpIVvWiw",
        "outputId": "ae983a1d-d4aa-4f41-860b-e7bbfc0c08d6"
      },
      "execution_count": null,
      "outputs": [
        {
          "output_type": "stream",
          "name": "stdout",
          "text": [
            "\n",
            "----- ATM MENU -----\n",
            "1. Check Balance\n",
            "2. Deposit Money\n",
            "3. Withdraw Money\n",
            "4. Exit\n",
            "Choose an option (1-4): 1\n",
            "Your current balance is: ₹ 1000\n",
            "\n",
            "----- ATM MENU -----\n",
            "1. Check Balance\n",
            "2. Deposit Money\n",
            "3. Withdraw Money\n",
            "4. Exit\n",
            "Choose an option (1-4): 2\n",
            "Enter amount to deposit: ₹500\n",
            "₹ 500.0 has been deposited.\n",
            "\n",
            "----- ATM MENU -----\n",
            "1. Check Balance\n",
            "2. Deposit Money\n",
            "3. Withdraw Money\n",
            "4. Exit\n",
            "Choose an option (1-4): 3\n",
            "Enter amount to withdraw: ₹500\n",
            "₹ 500.0 has been withdrawn.\n",
            "\n",
            "----- ATM MENU -----\n",
            "1. Check Balance\n",
            "2. Deposit Money\n",
            "3. Withdraw Money\n",
            "4. Exit\n",
            "Choose an option (1-4): 4\n",
            "Thank you for using the ATM. Goodbye!\n"
          ]
        }
      ]
    },
    {
      "cell_type": "markdown",
      "source": [
        "3.Grocery Store Inventory:\n",
        "Create a Python program that represents a grocery store\n",
        "inventory using a dictionary, where the keys are the names\n",
        "of items and the values are their quantities. The program\n",
        "should allow the user to perform the following actions:\n",
        "update the quantity of an existing item, add a new item to\n",
        "the inventory with a specified quantity, and remove an item\n",
        "from the inventory. The user should be prompted for their\n",
        "desired action, and the program should handle invalid input\n",
        "gracefully. This will help in understanding dictionary\n",
        "manipulation and user interaction in Python"
      ],
      "metadata": {
        "id": "gwWMJRtjvPDz"
      }
    },
    {
      "cell_type": "code",
      "source": [
        "# Grocery inventory dictionary\n",
        "inventory = {\n",
        "    \"apples\": 10,\n",
        "    \"bananas\": 15,\n",
        "    \"milk\": 5\n",
        "}\n",
        "\n",
        "def show_inventory():\n",
        "    print(\"\\nCurrent Inventory:\")\n",
        "    for item, quantity in inventory.items():\n",
        "        print(f\"- {item}: {quantity}\")\n",
        "    if not inventory:\n",
        "        print(\"Inventory is empty.\")\n",
        "\n",
        "while True:\n",
        "    print(\"\\n--- Grocery Store Inventory ---\")\n",
        "    print(\"1. View Inventory\")\n",
        "    print(\"2. Add New Item\")\n",
        "    print(\"3. Update Existing Item Quantity\")\n",
        "    print(\"4. Remove Item\")\n",
        "    print(\"5. Exit\")\n",
        "\n",
        "    choice = input(\"Choose an option (1-5): \")\n",
        "\n",
        "    if choice == '1':\n",
        "        show_inventory()\n",
        "\n",
        "    elif choice == '2':\n",
        "        item = input(\"Enter item name to add: \").lower()\n",
        "        if item in inventory:\n",
        "            print(f\"{item} already exists. Use update option to change quantity.\")\n",
        "        else:\n",
        "            try:\n",
        "                qty = int(input(f\"Enter quantity of {item}: \"))\n",
        "                inventory[item] = qty\n",
        "                print(f\"{item} added with quantity {qty}.\")\n",
        "            except ValueError:\n",
        "                print(\"Invalid quantity. Please enter a number.\")\n",
        "\n",
        "    elif choice == '3':\n",
        "        item = input(\"Enter item name to update: \").lower()\n",
        "        if item in inventory:\n",
        "            try:\n",
        "                qty = int(input(f\"Enter new quantity for {item}: \"))\n",
        "                inventory[item] = qty\n",
        "                print(f\"{item} updated to quantity {qty}.\")\n",
        "            except ValueError:\n",
        "                print(\"Invalid quantity. Please enter a number.\")\n",
        "        else:\n",
        "            print(f\"{item} not found in inventory.\")\n",
        "\n",
        "    elif choice == '4':\n",
        "        item = input(\"Enter item name to remove: \").lower()\n",
        "        if item in inventory:\n",
        "            del inventory[item]\n",
        "            print(f\"{item} removed from inventory.\")\n",
        "        else:\n",
        "            print(f\"{item} not found in inventory.\")\n",
        "\n",
        "    elif choice == '5':\n",
        "        print(\"Exiting Grocery Inventory System. Goodbye!\")\n",
        "        break\n",
        "\n",
        "    else:\n",
        "        print(\"Invalid choice. Please select an option from 1 to 5.\")\n"
      ],
      "metadata": {
        "colab": {
          "base_uri": "https://localhost:8080/"
        },
        "id": "qhhX43rlwwF0",
        "outputId": "2c3ab2e6-7a5a-4ce6-bf14-f23dadb822fb"
      },
      "execution_count": null,
      "outputs": [
        {
          "output_type": "stream",
          "name": "stdout",
          "text": [
            "\n",
            "--- Grocery Store Inventory ---\n",
            "1. View Inventory\n",
            "2. Add New Item\n",
            "3. Update Existing Item Quantity\n",
            "4. Remove Item\n",
            "5. Exit\n",
            "Choose an option (1-5): 1\n",
            "\n",
            "Current Inventory:\n",
            "- apples: 10\n",
            "- bananas: 15\n",
            "- milk: 5\n",
            "\n",
            "--- Grocery Store Inventory ---\n",
            "1. View Inventory\n",
            "2. Add New Item\n",
            "3. Update Existing Item Quantity\n",
            "4. Remove Item\n",
            "5. Exit\n",
            "Choose an option (1-5): 2\n",
            "Enter item name to add: 3\n",
            "Enter quantity of 3: 4\n",
            "3 added with quantity 4.\n",
            "\n",
            "--- Grocery Store Inventory ---\n",
            "1. View Inventory\n",
            "2. Add New Item\n",
            "3. Update Existing Item Quantity\n",
            "4. Remove Item\n",
            "5. Exit\n",
            "Choose an option (1-5): 5\n",
            "Exiting Grocery Inventory System. Goodbye!\n"
          ]
        }
      ]
    },
    {
      "cell_type": "markdown",
      "source": [
        "4.Library Book Tracker:\n",
        "Develop a Python program to manage a library system\n",
        "with options to add, remove, and search for books"
      ],
      "metadata": {
        "id": "b35IYIflBSjH"
      }
    },
    {
      "cell_type": "code",
      "source": [
        "# Initial list of books in the library\n",
        "library = [\"The Great Gatsby\", \"To Kill a Mockingbird\", \"1984\"]\n",
        "\n",
        "def show_books():\n",
        "    print(\"\\n📚 Current Books in Library:\")\n",
        "    if library:\n",
        "        for book in library:\n",
        "            print(f\"- {book}\")\n",
        "    else:\n",
        "        print(\"The library is currently empty.\")\n",
        "\n",
        "def add_book():\n",
        "    book = input(\"Enter the name of the book to add: \").strip()\n",
        "    if book:\n",
        "        if book in library:\n",
        "            print(\"This book already exists in the library.\")\n",
        "        else:\n",
        "            library.append(book)\n",
        "            print(f\"'{book}' has been added to the library.\")\n",
        "    else:\n",
        "        print(\"Invalid input. Book name cannot be empty.\")\n",
        "\n",
        "def remove_book():\n",
        "    book = input(\"Enter the name of the book to remove: \").strip()\n",
        "    if book in library:\n",
        "        library.remove(book)\n",
        "        print(f\"'{book}' has been removed from the library.\")\n",
        "    else:\n",
        "        print(f\"'{book}' not found in the library.\")\n",
        "\n",
        "def search_book():\n",
        "    book = input(\"Enter the name of the book to search for: \").strip()\n",
        "    if book in library:\n",
        "        print(f\"'{book}' is available in the library.\")\n",
        "    else:\n",
        "        print(f\"'{book}' is not in the library.\")\n",
        "\n",
        "# Main menu loop\n",
        "while True:\n",
        "    print(\"\\n--- Library Book Tracker ---\")\n",
        "    print(\"1. View All Books\")\n",
        "    print(\"2. Add Book\")\n",
        "    print(\"3. Remove Book\")\n",
        "    print(\"4. Search Book\")\n",
        "    print(\"5. Exit\")\n",
        "\n",
        "    choice = input(\"Choose an option (1-5): \")\n",
        "\n",
        "    if choice == '1':\n",
        "        show_books()\n",
        "    elif choice == '2':\n",
        "        add_book()\n",
        "    elif choice == '3':\n",
        "        remove_book()\n",
        "    elif choice == '4':\n",
        "        search_book()\n",
        "    elif choice == '5':\n",
        "        print(\"Exiting Library System. Goodbye!\")\n",
        "        break\n",
        "    else:\n",
        "        print(\"Invalid choice. Please select a valid option (1-5).\")\n"
      ],
      "metadata": {
        "colab": {
          "base_uri": "https://localhost:8080/"
        },
        "id": "cRvioQrxvSST",
        "outputId": "43fb7d28-6283-4294-8686-1bd1ef85433d"
      },
      "execution_count": null,
      "outputs": [
        {
          "output_type": "stream",
          "name": "stdout",
          "text": [
            "\n",
            "--- Library Book Tracker ---\n",
            "1. View All Books\n",
            "2. Add Book\n",
            "3. Remove Book\n",
            "4. Search Book\n",
            "5. Exit\n",
            "Choose an option (1-5): 1\n",
            "\n",
            "📚 Current Books in Library:\n",
            "- The Great Gatsby\n",
            "- To Kill a Mockingbird\n",
            "- 1984\n",
            "\n",
            "--- Library Book Tracker ---\n",
            "1. View All Books\n",
            "2. Add Book\n",
            "3. Remove Book\n",
            "4. Search Book\n",
            "5. Exit\n",
            "Choose an option (1-5): 2\n",
            "Enter the name of the book to add: choosen\n",
            "'choosen' has been added to the library.\n",
            "\n",
            "--- Library Book Tracker ---\n",
            "1. View All Books\n",
            "2. Add Book\n",
            "3. Remove Book\n",
            "4. Search Book\n",
            "5. Exit\n",
            "Choose an option (1-5): 3\n",
            "Enter the name of the book to remove: choosen\n",
            "'choosen' has been removed from the library.\n",
            "\n",
            "--- Library Book Tracker ---\n",
            "1. View All Books\n",
            "2. Add Book\n",
            "3. Remove Book\n",
            "4. Search Book\n",
            "5. Exit\n",
            "Choose an option (1-5): 4\n",
            "Enter the name of the book to search for: choosen\n",
            "'choosen' is not in the library.\n",
            "\n",
            "--- Library Book Tracker ---\n",
            "1. View All Books\n",
            "2. Add Book\n",
            "3. Remove Book\n",
            "4. Search Book\n",
            "5. Exit\n",
            "Choose an option (1-5): 5\n",
            "Exiting Library System. Goodbye!\n"
          ]
        }
      ]
    },
    {
      "cell_type": "markdown",
      "source": [
        "5.Temperature Converter with History:\n",
        "Create Cre a Python program that functions as a temperature\n",
        "converter, allowing the user to convert temperatures between\n",
        "Celsius and Fahrenheit. The program should store and display\n",
        "the last five conversions, showing both the input value and the\n",
        "result. The user should be able to choose the direction of\n",
        "conversion (Celsius to Fahrenheit or Fahrenheit to Celsius), and\n",
        "the program should maintain a history of the last five\n",
        "conversions, displaying the most recent ones at the end of each\n",
        "conversion"
      ],
      "metadata": {
        "id": "Hyyza8YN6UG8"
      }
    },
    {
      "cell_type": "code",
      "source": [
        "from collections import deque\n",
        "\n",
        "def celsius_to_fahrenheit(celsius):\n",
        "    return (celsius * 9/5) + 32\n",
        "\n",
        "def fahrenheit_to_celsius(fahrenheit):\n",
        "    return (fahrenheit - 32) * 5/9\n",
        "\n",
        "def display_history(history):\n",
        "    print(\"\\nLast 5 conversions:\")\n",
        "    for entry in history:\n",
        "        print(entry)\n",
        "\n",
        "def main():\n",
        "    history = deque(maxlen=5)  # Automatically removes oldest entries\n",
        "\n",
        "    while True:\n",
        "        print(\"\\nTemperature Converter\")\n",
        "        print(\"1. Celsius to Fahrenheit\")\n",
        "        print(\"2. Fahrenheit to Celsius\")\n",
        "        print(\"3. Exit\")\n",
        "\n",
        "        choice = input(\"Choose an option (1/2/3): \")\n",
        "\n",
        "        if choice == '1':\n",
        "            try:\n",
        "                celsius = float(input(\"Enter temperature in Celsius: \"))\n",
        "                fahrenheit = celsius_to_fahrenheit(celsius)\n",
        "                result = f\"{celsius}°C = {fahrenheit:.2f}°F\"\n",
        "                print(result)\n",
        "                history.append(result)\n",
        "            except ValueError:\n",
        "                print(\"Please enter a valid number.\")\n",
        "        elif choice == '2':\n",
        "            try:\n",
        "                fahrenheit = float(input(\"Enter temperature in Fahrenheit: \"))\n",
        "                celsius = fahrenheit_to_celsius(fahrenheit)\n",
        "                result = f\"{fahrenheit}°F = {celsius:.2f}°C\"\n",
        "                print(result)\n",
        "                history.append(result)\n",
        "            except ValueError:\n",
        "                print(\"Please enter a valid number.\")\n",
        "        elif choice == '3':\n",
        "            print(\"Exiting the program.\")\n",
        "            break\n",
        "        else:\n",
        "            print(\"Invalid choice. Please select 1, 2, or 3.\")\n",
        "\n",
        "        display_history(history)\n",
        "\n",
        "if __name__ == \"__main__\":\n",
        "    main()\n"
      ],
      "metadata": {
        "id": "kw-3tfebwvIO",
        "colab": {
          "base_uri": "https://localhost:8080/"
        },
        "outputId": "7905cb52-8aef-4d8c-daa5-c38a68d201e7"
      },
      "execution_count": null,
      "outputs": [
        {
          "output_type": "stream",
          "name": "stdout",
          "text": [
            "\n",
            "Temperature Converter\n",
            "1. Celsius to Fahrenheit\n",
            "2. Fahrenheit to Celsius\n",
            "3. Exit\n",
            "Choose an option (1/2/3): 1\n",
            "Enter temperature in Celsius: 40\n",
            "40.0°C = 104.00°F\n",
            "\n",
            "Last 5 conversions:\n",
            "40.0°C = 104.00°F\n",
            "\n",
            "Temperature Converter\n",
            "1. Celsius to Fahrenheit\n",
            "2. Fahrenheit to Celsius\n",
            "3. Exit\n",
            "Choose an option (1/2/3): 2\n",
            "Enter temperature in Fahrenheit: 30\n",
            "30.0°F = -1.11°C\n",
            "\n",
            "Last 5 conversions:\n",
            "40.0°C = 104.00°F\n",
            "30.0°F = -1.11°C\n",
            "\n",
            "Temperature Converter\n",
            "1. Celsius to Fahrenheit\n",
            "2. Fahrenheit to Celsius\n",
            "3. Exit\n",
            "Choose an option (1/2/3): 3\n",
            "Exiting the program.\n"
          ]
        }
      ]
    },
    {
      "cell_type": "markdown",
      "source": [
        "6. Number Guessing Game:\n",
        "Create a Python program where the computer randomly\n",
        "selects a number between 1 and 100, and the user has to\n",
        "guess the number. After each guess, the program should\n",
        "provide feedback such as 'Too High' if the guess is greater\n",
        "than the number, or 'Too Low' if the guess is smaller. The\n",
        "program should continue prompting the user for guesses\n",
        "until the correct number is guessed, and then it should\n",
        "congratulate the user for finding the number"
      ],
      "metadata": {
        "id": "wqeGTUk2A5Sx"
      }
    },
    {
      "cell_type": "code",
      "source": [
        "import random\n",
        "\n",
        "def number_guessing_game():\n",
        "    number_to_guess = random.randint(1, 100)\n",
        "    attempts = 0\n",
        "\n",
        "    print(\"Welcome to the Number Guessing Game!\")\n",
        "    print(\"I'm thinking of a number between 1 and 100.\")\n",
        "\n",
        "    while True:\n",
        "        try:\n",
        "            guess = int(input(\"Enter your guess: \"))\n",
        "            attempts += 1\n",
        "\n",
        "            if guess < 1 or guess > 100:\n",
        "                print(\"Please guess a number between 1 and 100.\")\n",
        "                continue\n",
        "\n",
        "            if guess < number_to_guess:\n",
        "                print(\"Too Low!\")\n",
        "            elif guess > number_to_guess:\n",
        "                print(\"Too High!\")\n",
        "            else:\n",
        "                print(f\"Congratulations! You guessed the number in {attempts} attempts.\")\n",
        "                break\n",
        "        except ValueError:\n",
        "            print(\"Please enter a valid number.\")\n",
        "\n",
        "if __name__ == \"__main__\":\n",
        "    number_guessing_game()\n"
      ],
      "metadata": {
        "colab": {
          "base_uri": "https://localhost:8080/"
        },
        "id": "KwoJePH76cCb",
        "outputId": "05cc4af1-d9ce-4c6c-d2d6-88e9cafed0c7"
      },
      "execution_count": null,
      "outputs": [
        {
          "output_type": "stream",
          "name": "stdout",
          "text": [
            "Welcome to the Number Guessing Game!\n",
            "I'm thinking of a number between 1 and 100.\n",
            "Enter your guess: 10\n",
            "Too Low!\n",
            "Enter your guess: 20\n",
            "Too Low!\n",
            "Enter your guess: 30\n",
            "Too Low!\n",
            "Enter your guess: 50\n",
            "Too Low!\n",
            "Enter your guess: 70\n",
            "Too High!\n",
            "Enter your guess: 60\n",
            "Too Low!\n",
            "Enter your guess: 65\n",
            "Too High!\n",
            "Enter your guess: 64\n",
            "Too High!\n",
            "Enter your guess: 63\n",
            "Congratulations! You guessed the number in 9 attempts.\n"
          ]
        }
      ]
    },
    {
      "cell_type": "markdown",
      "source": [
        "7. Basic Calculator with History:\n",
        "Create a Python program that implements a calculator\n",
        "capable of performing addition, subtraction,\n",
        "multiplication, and division. The program should allow\n",
        "the user to input two numbers and select the desired\n",
        "operation. After each calculation, the program should\n",
        "display the result and store the last three calculations. If\n",
        "more than three calculations are performed, the oldest\n",
        "one should be removed to make room for the new one."
      ],
      "metadata": {
        "id": "1L_pE28zHWX3"
      }
    },
    {
      "cell_type": "code",
      "source": [
        "from collections import deque\n",
        "\n",
        "def add(a, b):\n",
        "    return a + b\n",
        "\n",
        "def subtract(a, b):\n",
        "    return a - b\n",
        "\n",
        "def multiply(a, b):\n",
        "    return a * b\n",
        "\n",
        "def divide(a, b):\n",
        "    return a / b if b != 0 else \"Error: Division by zero\"\n",
        "\n",
        "def display_history(history):\n",
        "    print(\"\\nLast 3 calculations:\")\n",
        "    for entry in history:\n",
        "        print(entry)\n",
        "\n",
        "def main():\n",
        "    history = deque(maxlen=3)\n",
        "\n",
        "    while True:\n",
        "        print(\"\\nBasic Calculator\")\n",
        "        print(\"1. Add\")\n",
        "        print(\"2. Subtract\")\n",
        "        print(\"3. Multiply\")\n",
        "        print(\"4. Divide\")\n",
        "        print(\"5. Exit\")\n",
        "\n",
        "        choice = input(\"Choose an operation (1/2/3/4/5): \")\n",
        "\n",
        "        if choice in ['1', '2', '3', '4']:\n",
        "            try:\n",
        "                num1 = float(input(\"Enter first number: \"))\n",
        "                num2 = float(input(\"Enter second number: \"))\n",
        "\n",
        "                if choice == '1':\n",
        "                    result = add(num1, num2)\n",
        "                    operation = f\"{num1} + {num2} = {result}\"\n",
        "                elif choice == '2':\n",
        "                    result = subtract(num1, num2)\n",
        "                    operation = f\"{num1} - {num2} = {result}\"\n",
        "                elif choice == '3':\n",
        "                    result = multiply(num1, num2)\n",
        "                    operation = f\"{num1} * {num2} = {result}\"\n",
        "                elif choice == '4':\n",
        "                    result = divide(num1, num2)\n",
        "                    operation = f\"{num1} / {num2} = {result}\"\n",
        "\n",
        "                print(\"Result:\", result)\n",
        "                history.append(operation)\n",
        "\n",
        "            except ValueError:\n",
        "                print(\"Please enter valid numbers.\")\n",
        "        elif choice == '5':\n",
        "            print(\"Exiting the calculator.\")\n",
        "            break\n",
        "        else:\n",
        "            print(\"Invalid choice. Please select a number from 1 to 5.\")\n",
        "\n",
        "        display_history(history)\n",
        "\n",
        "if __name__ == \"__main__\":\n",
        "    main()\n"
      ],
      "metadata": {
        "colab": {
          "base_uri": "https://localhost:8080/"
        },
        "id": "UU064_eGBfKU",
        "outputId": "f2b05eae-f0c9-485f-8ec3-409b3abdd4be"
      },
      "execution_count": null,
      "outputs": [
        {
          "output_type": "stream",
          "name": "stdout",
          "text": [
            "\n",
            "Basic Calculator\n",
            "1. Add\n",
            "2. Subtract\n",
            "3. Multiply\n",
            "4. Divide\n",
            "5. Exit\n",
            "Choose an operation (1/2/3/4/5): 1\n",
            "Enter first number: 75\n",
            "Enter second number: 25\n",
            "Result: 100.0\n",
            "\n",
            "Last 3 calculations:\n",
            "75.0 + 25.0 = 100.0\n",
            "\n",
            "Basic Calculator\n",
            "1. Add\n",
            "2. Subtract\n",
            "3. Multiply\n",
            "4. Divide\n",
            "5. Exit\n",
            "Choose an operation (1/2/3/4/5): 2\n",
            "Enter first number: 75\n",
            "Enter second number: 25\n",
            "Result: 50.0\n",
            "\n",
            "Last 3 calculations:\n",
            "75.0 + 25.0 = 100.0\n",
            "75.0 - 25.0 = 50.0\n",
            "\n",
            "Basic Calculator\n",
            "1. Add\n",
            "2. Subtract\n",
            "3. Multiply\n",
            "4. Divide\n",
            "5. Exit\n",
            "Choose an operation (1/2/3/4/5): 3\n",
            "Enter first number: 75\n",
            "Enter second number: 25\n",
            "Result: 1875.0\n",
            "\n",
            "Last 3 calculations:\n",
            "75.0 + 25.0 = 100.0\n",
            "75.0 - 25.0 = 50.0\n",
            "75.0 * 25.0 = 1875.0\n",
            "\n",
            "Basic Calculator\n",
            "1. Add\n",
            "2. Subtract\n",
            "3. Multiply\n",
            "4. Divide\n",
            "5. Exit\n",
            "Choose an operation (1/2/3/4/5): 4\n",
            "Enter first number: 75\n",
            "Enter second number: 25\n",
            "Result: 3.0\n",
            "\n",
            "Last 3 calculations:\n",
            "75.0 - 25.0 = 50.0\n",
            "75.0 * 25.0 = 1875.0\n",
            "75.0 / 25.0 = 3.0\n",
            "\n",
            "Basic Calculator\n",
            "1. Add\n",
            "2. Subtract\n",
            "3. Multiply\n",
            "4. Divide\n",
            "5. Exit\n",
            "Choose an operation (1/2/3/4/5): 5\n",
            "Exiting the calculator.\n"
          ]
        }
      ]
    },
    {
      "cell_type": "markdown",
      "source": [
        "8.   Student Grade Calculator:\n",
        "Create a Python program that takes the marks for 5 subjects as\n",
        "input from the user, calculates the total marks, the average\n",
        "score, and assigns a grade based on the average. The grade can\n",
        "be determined based on typical thresholds, such as:\n",
        "A: Average >= 90\n",
        "B: Average >= 75\n",
        "C: Average >= 60\n",
        "D: Average >= 50\n",
        "F: Average < 50\n",
        "The program should display the total marks, average, and\n",
        "corresponding grade to the user"
      ],
      "metadata": {
        "id": "xE1Ax-PtQaM5"
      }
    },
    {
      "cell_type": "code",
      "source": [
        "  def calculate_grade(average):\n",
        "    if average >= 90:\n",
        "        return 'A'\n",
        "    elif average >= 75:\n",
        "        return 'B'\n",
        "    elif average >= 60:\n",
        "        return 'C'\n",
        "    elif average >= 50:\n",
        "        return 'D'\n",
        "    else:\n",
        "        return 'F'\n",
        "\n",
        "def main():\n",
        "    print(\"Student Grade Calculator\")\n",
        "\n",
        "    marks = []\n",
        "    for i in range(1, 6):\n",
        "        while True:\n",
        "            try:\n",
        "                mark = float(input(f\"Enter marks for subject {i} (out of 100): \"))\n",
        "                if 0 <= mark <= 100:\n",
        "                    marks.append(mark)\n",
        "                    break\n",
        "                else:\n",
        "                    print(\"Please enter a valid mark between 0 and 100.\")\n",
        "            except ValueError:\n",
        "                print(\"Please enter a numeric value.\")\n",
        "\n",
        "    total = sum(marks)\n",
        "    average = total / 5\n",
        "    grade = calculate_grade(average)\n",
        "\n",
        "    print(\"\\n----- Results -----\")\n",
        "    print(f\"Total Marks: {total}\")\n",
        "    print(f\"Average Score: {average:.2f}\")\n",
        "    print(f\"Grade: {grade}\")\n",
        "\n",
        "if __name__ == \"__main__\":\n",
        "    main()\n"
      ],
      "metadata": {
        "colab": {
          "base_uri": "https://localhost:8080/"
        },
        "id": "LkG2CVmwHbgf",
        "outputId": "4f7ccd7b-56fd-4edf-8a82-9d5626b5dfea"
      },
      "execution_count": null,
      "outputs": [
        {
          "output_type": "stream",
          "name": "stdout",
          "text": [
            "Student Grade Calculator\n",
            "Enter marks for subject 1 (out of 100): 75\n",
            "Enter marks for subject 2 (out of 100): 80\n",
            "Enter marks for subject 3 (out of 100): 60\n",
            "Enter marks for subject 4 (out of 100): 65\n",
            "Enter marks for subject 5 (out of 100): 70\n",
            "\n",
            "----- Results -----\n",
            "Total Marks: 350.0\n",
            "Average Score: 70.00\n",
            "Grade: C\n"
          ]
        }
      ]
    },
    {
      "cell_type": "markdown",
      "source": [
        "9.Word Frequency Converter:\n",
        "Create a Python program that allows the user to input a\n",
        "sentence, then counts the frequency of each word in the\n",
        "sentence"
      ],
      "metadata": {
        "id": "kf85WI2AXotp"
      }
    },
    {
      "cell_type": "code",
      "source": [
        " from collections import Counter\n",
        "\n",
        "def word_frequency_converter():\n",
        "    sentence = input(\"Enter a sentence: \")\n",
        "\n",
        "    # Normalize the sentence: remove punctuation and convert to lowercase\n",
        "    words = sentence.lower().split()\n",
        "\n",
        "    # Count word frequencies\n",
        "    frequency = Counter(words)\n",
        "\n",
        "    # Display the results\n",
        "    print(\"\\nWord Frequencies:\")\n",
        "    for word, count in frequency.items():\n",
        "        print(f\"'{word}': {count}\")\n",
        "\n",
        "if __name__ == \"__main__\":\n",
        "    word_frequency_converter()\n"
      ],
      "metadata": {
        "colab": {
          "base_uri": "https://localhost:8080/"
        },
        "id": "C9ZaVlRTQeX9",
        "outputId": "0bf53dec-b337-4fa2-9871-177bfa205561"
      },
      "execution_count": null,
      "outputs": [
        {
          "output_type": "stream",
          "name": "stdout",
          "text": [
            "Enter a sentence: This is a test. This is only a test\n",
            "\n",
            "Word Frequencies:\n",
            "'this': 2\n",
            "'is': 2\n",
            "'a': 2\n",
            "'test.': 1\n",
            "'only': 1\n",
            "'test': 1\n"
          ]
        }
      ]
    },
    {
      "cell_type": "markdown",
      "source": [
        "10.Simple Quiz Application:\n",
        "Create a Python quiz program with 5 questions and\n",
        "multiple-choice answers. Display the score at the end"
      ],
      "metadata": {
        "id": "r2cz0KwVZoaV"
      }
    },
    {
      "cell_type": "code",
      "source": [
        "def run_quiz():\n",
        "    questions = [\n",
        "        {\n",
        "            \"question\": \"What is the capital of France?\",\n",
        "            \"options\": [\"A. Berlin\", \"B. London\", \"C. Paris\", \"D. Rome\"],\n",
        "            \"answer\": \"C\"\n",
        "        },\n",
        "        {\n",
        "            \"question\": \"Which planet is known as the Red Planet?\",\n",
        "            \"options\": [\"A. Earth\", \"B. Mars\", \"C. Jupiter\", \"D. Venus\"],\n",
        "            \"answer\": \"B\"\n",
        "        },\n",
        "        {\n",
        "            \"question\": \"Who wrote the play 'Romeo and Juliet'?\",\n",
        "            \"options\": [\"A. Charles Dickens\", \"B. J.K. Rowling\", \"C. William Shakespeare\", \"D. Mark Twain\"],\n",
        "            \"answer\": \"C\"\n",
        "        },\n",
        "        {\n",
        "            \"question\": \"What is the largest mammal in the world?\",\n",
        "            \"options\": [\"A. Elephant\", \"B. Giraffe\", \"C. Blue Whale\", \"D. Hippo\"],\n",
        "            \"answer\": \"C\"\n",
        "        },\n",
        "        {\n",
        "            \"question\": \"Which gas do plants use for photosynthesis?\",\n",
        "            \"options\": [\"A. Oxygen\", \"B. Nitrogen\", \"C. Carbon Dioxide\", \"D. Hydrogen\"],\n",
        "            \"answer\": \"C\"\n",
        "        }\n",
        "    ]\n",
        "\n",
        "    score = 0\n",
        "\n",
        "    for i, q in enumerate(questions, 1):\n",
        "        print(f\"\\nQuestion {i}: {q['question']}\")\n",
        "        for option in q['options']:\n",
        "            print(option)\n",
        "\n",
        "        answer = input(\"Your answer (A/B/C/D): \").strip().upper()\n",
        "        if answer == q[\"answer\"]:\n",
        "            print(\"Correct!\")\n",
        "            score += 1\n",
        "        else:\n",
        "            print(f\"Wrong! The correct answer was {q['answer']}.\")\n",
        "\n",
        "    print(\"\\n----- Quiz Completed -----\")\n",
        "    print(f\"Your score: {score} out of {len(questions)}\")\n",
        "\n",
        "if __name__ == \"__main__\":\n",
        "    run_quiz()\n"
      ],
      "metadata": {
        "colab": {
          "base_uri": "https://localhost:8080/"
        },
        "id": "Vs4gldL-Xr6d",
        "outputId": "14f031ac-bcbc-49f1-f201-a8b1f1edbd3e"
      },
      "execution_count": null,
      "outputs": [
        {
          "output_type": "stream",
          "name": "stdout",
          "text": [
            "\n",
            "Question 1: What is the capital of France?\n",
            "A. Berlin\n",
            "B. London\n",
            "C. Paris\n",
            "D. Rome\n",
            "Your answer (A/B/C/D): C\n",
            "Correct!\n",
            "\n",
            "Question 2: Which planet is known as the Red Planet?\n",
            "A. Earth\n",
            "B. Mars\n",
            "C. Jupiter\n",
            "D. Venus\n",
            "Your answer (A/B/C/D): B\n",
            "Correct!\n",
            "\n",
            "Question 3: Who wrote the play 'Romeo and Juliet'?\n",
            "A. Charles Dickens\n",
            "B. J.K. Rowling\n",
            "C. William Shakespeare\n",
            "D. Mark Twain\n",
            "Your answer (A/B/C/D): C\n",
            "Correct!\n",
            "\n",
            "Question 4: What is the largest mammal in the world?\n",
            "A. Elephant\n",
            "B. Giraffe\n",
            "C. Blue Whale\n",
            "D. Hippo\n",
            "Your answer (A/B/C/D): C\n",
            "Correct!\n",
            "\n",
            "Question 5: Which gas do plants use for photosynthesis?\n",
            "A. Oxygen\n",
            "B. Nitrogen\n",
            "C. Carbon Dioxide\n",
            "D. Hydrogen\n",
            "Your answer (A/B/C/D): B\n",
            "Wrong! The correct answer was C.\n",
            "\n",
            "----- Quiz Completed -----\n",
            "Your score: 4 out of 5\n"
          ]
        }
      ]
    },
    {
      "cell_type": "markdown",
      "source": [
        "11.Currency Converter:\n",
        "Create a Python program that converts currency from USD\n",
        "(United States Dollar) to INR (Indian Rupee), EUR (Euro), and\n",
        "GBP (British Pound) based on provided exchange rates. The\n",
        "program should prompt the user to input the amount in USD\n",
        "and the exchange rates for INR, EUR, and GBP. It will then\n",
        "calculate and display the converted amounts for each of these\n",
        "currencies. The user should also be able to input new exchange\n",
        "rates if desired"
      ],
      "metadata": {
        "id": "OuMdCD3xHpaI"
      }
    },
    {
      "cell_type": "code",
      "source": [
        "def convert_currency(usd_amount, exchange_rates):\n",
        "    inr = usd_amount * exchange_rates['INR']\n",
        "    eur = usd_amount * exchange_rates['EUR']\n",
        "    gbp = usd_amount * exchange_rates['GBP']\n",
        "    return inr, eur, gbp\n",
        "\n",
        "def get_exchange_rates():\n",
        "    print(\"Enter current exchange rates:\")\n",
        "    inr = float(input(\"USD to INR: \"))\n",
        "    eur = float(input(\"USD to EUR: \"))\n",
        "    gbp = float(input(\"USD to GBP: \"))\n",
        "    return {'INR': inr, 'EUR': eur, 'GBP': gbp}\n",
        "\n",
        "# Initial exchange rates\n",
        "exchange_rates = get_exchange_rates()\n",
        "\n",
        "while True:\n",
        "    try:\n",
        "        usd = float(input(\"\\nEnter amount in USD: \"))\n",
        "        inr, eur, gbp = convert_currency(usd, exchange_rates)\n",
        "\n",
        "        print(f\"\\nConverted Amounts:\")\n",
        "        print(f\"INR: ₹{inr:.2f}\")\n",
        "        print(f\"EUR: €{eur:.2f}\")\n",
        "        print(f\"GBP: £{gbp:.2f}\")\n",
        "    except ValueError:\n",
        "        print(\"Invalid input. Please enter numbers only.\")\n",
        "        continue\n",
        "\n",
        "    # Ask to update exchange rates\n",
        "    choice = input(\"\\nDo you want to update exchange rates? (yes/no): \").lower()\n",
        "    if choice == 'yes':\n",
        "        exchange_rates = get_exchange_rates()\n",
        "\n",
        "    # Ask to continue or exit\n",
        "    again = input(\"\\nDo you want to convert another amount? (yes/no): \").lower()\n",
        "    if again != 'yes':\n",
        "        print(\"Thank you for using the Currency Converter.\")\n",
        "        break\n"
      ],
      "metadata": {
        "id": "_MGQt3mFZrui",
        "colab": {
          "base_uri": "https://localhost:8080/"
        },
        "outputId": "16a2e7d2-8159-4d9f-c5a5-af01beebb541"
      },
      "execution_count": null,
      "outputs": [
        {
          "output_type": "stream",
          "name": "stdout",
          "text": [
            "Enter current exchange rates:\n",
            "USD to INR: 7000\n",
            "USD to EUR: 5000\n",
            "USD to GBP: 2000\n",
            "\n",
            "Enter amount in USD: 7000\n",
            "\n",
            "Converted Amounts:\n",
            "INR: ₹49000000.00\n",
            "EUR: €35000000.00\n",
            "GBP: £14000000.00\n",
            "\n",
            "Do you want to update exchange rates? (yes/no): no\n",
            "\n",
            "Do you want to convert another amount? (yes/no): no\n",
            "Thank you for using the Currency Converter.\n"
          ]
        }
      ]
    },
    {
      "cell_type": "markdown",
      "source": [
        "12.Event Ticket System:\n",
        "Create a Python program to sell tickets for an event where\n",
        "the user can choose the type of ticket (VIP, Regular, or\n",
        "Economy) and specify the number of tickets they want to\n",
        "purchase. The program should display the price for each\n",
        "ticket type, calculate the total cost based on the number of\n",
        "tickets, and then prompt the user to confirm the purchase.\n",
        "The ticket prices can be predefined, for example:\n",
        "VIP: $100\n",
        "Regular: $50\n",
        "Economy: $20\n",
        "After the user selects the ticket type and number, the\n",
        "program should display the total price for the tickets and\n",
        "confirm the transaction"
      ],
      "metadata": {
        "id": "a-0ucxPSUQRi"
      }
    },
    {
      "cell_type": "code",
      "source": [
        " def display_ticket_prices():\n",
        "    print(\"\\n--- Ticket Prices ---\")\n",
        "    print(\"1. VIP     - $100\")\n",
        "    print(\"2. Regular - $50\")\n",
        "    print(\"3. Economy - $20\")\n",
        "\n",
        "def get_ticket_price(ticket_type):\n",
        "    prices = {\"VIP\": 100, \"Regular\": 50, \"Economy\": 20}\n",
        "    return prices.get(ticket_type, 0)\n",
        "\n",
        "def main():\n",
        "    while True:\n",
        "        display_ticket_prices()\n",
        "\n",
        "        ticket_type = input(\"\\nEnter ticket type (VIP / Regular / Economy): \").capitalize()\n",
        "\n",
        "        if ticket_type not in [\"VIP\", \"Regular\", \"Economy\"]:\n",
        "            print(\"Invalid ticket type. Please try again.\")\n",
        "            continue\n",
        "\n",
        "        try:\n",
        "            num_tickets = int(input(f\"How many {ticket_type} tickets do you want to buy? \"))\n",
        "            if num_tickets <= 0:\n",
        "                print(\"Please enter a positive number.\")\n",
        "                continue\n",
        "        except ValueError:\n",
        "            print(\"Invalid number. Please enter digits only.\")\n",
        "            continue\n",
        "\n",
        "        price_per_ticket = get_ticket_price(ticket_type)\n",
        "        total_price = price_per_ticket * num_tickets\n",
        "\n",
        "        print(f\"\\nTotal cost for {num_tickets} {ticket_type} tickets: ${total_price}\")\n",
        "        confirm = input(\"Do you want to confirm the purchase? (yes/no): \").lower()\n",
        "\n",
        "        if confirm == \"yes\":\n",
        "            print(f\"\\n✅ Purchase confirmed. Enjoy your {ticket_type} experience!\")\n",
        "        else:\n",
        "            print(\"\\n❌ Purchase cancelled.\")\n",
        "\n",
        "        again = input(\"\\nDo you want to book more tickets? (yes/no): \").lower()\n",
        "        if again != \"yes\":\n",
        "            print(\"\\nThank you for using the Event Ticket System!\")\n",
        "            break\n",
        "\n",
        "# Run the program\n",
        "main()\n"
      ],
      "metadata": {
        "colab": {
          "base_uri": "https://localhost:8080/"
        },
        "id": "5FXHGSErKmtv",
        "outputId": "3aa98bd6-7481-4d32-b8f9-feaedb5120ac"
      },
      "execution_count": null,
      "outputs": [
        {
          "output_type": "stream",
          "name": "stdout",
          "text": [
            "\n",
            "--- Ticket Prices ---\n",
            "1. VIP     - $100\n",
            "2. Regular - $50\n",
            "3. Economy - $20\n",
            "\n",
            "Enter ticket type (VIP / Regular / Economy): Regular\n",
            "How many Regular tickets do you want to buy? 4\n",
            "\n",
            "Total cost for 4 Regular tickets: $200\n",
            "Do you want to confirm the purchase? (yes/no): yes\n",
            "\n",
            "✅ Purchase confirmed. Enjoy your Regular experience!\n",
            "\n",
            "Do you want to book more tickets? (yes/no): no\n",
            "\n",
            "Thank you for using the Event Ticket System!\n"
          ]
        }
      ]
    },
    {
      "cell_type": "markdown",
      "source": [
        "13.To-Do List Manager:\n",
        "Create a Python program that implements a simple to-do list\n",
        "manager. The program should allow the user to perform the\n",
        "following actions:\n",
        "Add a task: Add a new task to the to-do list.\n",
        "Remove a task: Remove a task from the to-do list by\n",
        "specifying its index or name.\n",
        "Mark a task as done: Mark a specific task as completed.\n",
        "Display pending tasks: Show all tasks that have not yet\n",
        "been marked as done.\n",
        "The program should display a menu with these options, and\n",
        "the user can choose which action to perform. It should store\n",
        "the tasks in a list, and each task can be represented by a\n",
        "dictionary with properties like task name and whether it's\n",
        "done or not"
      ],
      "metadata": {
        "id": "qg4T9Q7Gdluv"
      }
    },
    {
      "cell_type": "code",
      "source": [
        " def display_menu():\n",
        "    print(\"\\n=== TO-DO LIST MENU ===\")\n",
        "    print(\"1. Add a Task\")\n",
        "    print(\"2. Remove a Task\")\n",
        "    print(\"3. Mark Task as Done\")\n",
        "    print(\"4. Display Pending Tasks\")\n",
        "    print(\"5. Show All Tasks\")\n",
        "    print(\"6. Exit\")\n",
        "\n",
        "def add_task(todo_list):\n",
        "    task_name = input(\"Enter task name: \")\n",
        "    todo_list.append({\"name\": task_name, \"done\": False})\n",
        "    print(f\"Task '{task_name}' added.\")\n",
        "\n",
        "def remove_task(todo_list):\n",
        "    show_all_tasks(todo_list)\n",
        "    task_index = input(\"Enter task number to remove: \")\n",
        "    if task_index.isdigit():\n",
        "        task_index = int(task_index)\n",
        "        if 0 <= task_index < len(todo_list):\n",
        "            removed = todo_list.pop(task_index)\n",
        "            print(f\"Task '{removed['name']}' removed.\")\n",
        "        else:\n",
        "            print(\"Invalid task number.\")\n",
        "    else:\n",
        "        print(\"Please enter a valid number.\")\n",
        "\n",
        "def mark_task_done(todo_list):\n",
        "    show_all_tasks(todo_list)\n",
        "    task_index = input(\"Enter task number to mark as done: \")\n",
        "    if task_index.isdigit():\n",
        "        task_index = int(task_index)\n",
        "        if 0 <= task_index < len(todo_list):\n",
        "            todo_list[task_index]['done'] = True\n",
        "            print(f\"Task '{todo_list[task_index]['name']}' marked as done.\")\n",
        "        else:\n",
        "            print(\"Invalid task number.\")\n",
        "    else:\n",
        "        print(\"Please enter a valid number.\")\n",
        "\n",
        "def show_pending_tasks(todo_list):\n",
        "    print(\"\\n=== Pending Tasks ===\")\n",
        "    found = False\n",
        "    for i, task in enumerate(todo_list):\n",
        "        if not task['done']:\n",
        "            print(f\"{i}. {task['name']}\")\n",
        "            found = True\n",
        "    if not found:\n",
        "        print(\"No pending tasks.\")\n",
        "\n",
        "def show_all_tasks(todo_list):\n",
        "    print(\"\\n=== All Tasks ===\")\n",
        "    if not todo_list:\n",
        "        print(\"No tasks in the list.\")\n",
        "        return\n",
        "    for i, task in enumerate(todo_list):\n",
        "        status = \"✔ Done\" if task['done'] else \"❌ Pending\"\n",
        "        print(f\"{i}. {task['name']} - {status}\")\n",
        "\n",
        "def main():\n",
        "    todo_list = []\n",
        "\n",
        "    while True:\n",
        "        display_menu()\n",
        "        choice = input(\"Enter your choice (1-6): \")\n",
        "\n",
        "        if choice == \"1\":\n",
        "            add_task(todo_list)\n",
        "        elif choice == \"2\":\n",
        "            remove_task(todo_list)\n",
        "        elif choice == \"3\":\n",
        "            mark_task_done(todo_list)\n",
        "        elif choice == \"4\":\n",
        "            show_pending_tasks(todo_list)\n",
        "        elif choice == \"5\":\n",
        "            show_all_tasks(todo_list)\n",
        "        elif choice == \"6\":\n",
        "            print(\"Exiting To-Do List Manager. Goodbye!\")\n",
        "            break\n",
        "        else:\n",
        "            print(\"Invalid choice. Please try again.\")\n",
        "\n",
        "# Run the to-do manager\n",
        "main()\n",
        "def display_menu():\n",
        "    print(\"\\n=== TO-DO LIST MENU ===\")\n",
        "    print(\"1. Add a Task\")\n",
        "    print(\"2. Remove a Task\")\n",
        "    print(\"3. Mark Task as Done\")\n",
        "    print(\"4. Display Pending Tasks\")\n",
        "    print(\"5. Show All Tasks\")\n",
        "    print(\"6. Exit\")\n",
        "\n",
        "def add_task(todo_list):\n",
        "    task_name = input(\"Enter task name: \")\n",
        "    todo_list.append({\"name\": task_name, \"done\": False})\n",
        "    print(f\"Task '{task_name}' added.\")\n",
        "\n",
        "def remove_task(todo_list):\n",
        "    show_all_tasks(todo_list)\n",
        "    task_index = input(\"Enter task number to remove: \")\n",
        "    if task_index.isdigit():\n",
        "        task_index = int(task_index)\n",
        "        if 0 <= task_index < len(todo_list):\n",
        "            removed = todo_list.pop(task_index)\n",
        "            print(f\"Task '{removed['name']}' removed.\")\n",
        "        else:\n",
        "            print(\"Invalid task number.\")\n",
        "    else:\n",
        "        print(\"Please enter a valid number.\")\n",
        "\n",
        "def mark_task_done(todo_list):\n",
        "    show_all_tasks(todo_list)\n",
        "    task_index = input(\"Enter task number to mark as done: \")\n",
        "    if task_index.isdigit():\n",
        "        task_index = int(task_index)\n",
        "        if 0 <= task_index < len(todo_list):\n",
        "            todo_list[task_index]['done'] = True\n",
        "            print(f\"Task '{todo_list[task_index]['name']}' marked as done.\")\n",
        "        else:\n",
        "            print(\"Invalid task number.\")\n",
        "    else:\n",
        "        print(\"Please enter a valid number.\")\n",
        "\n",
        "def show_pending_tasks(todo_list):\n",
        "    print(\"\\n=== Pending Tasks ===\")\n",
        "    found = False\n",
        "    for i, task in enumerate(todo_list):\n",
        "        if not task['done']:\n",
        "            print(f\"{i}. {task['name']}\")\n",
        "            found = True\n",
        "    if not found:\n",
        "        print(\"No pending tasks.\")\n",
        "\n",
        "def show_all_tasks(todo_list):\n",
        "    print(\"\\n=== All Tasks ===\")\n",
        "    if not todo_list:\n",
        "        print(\"No tasks in the list.\")\n",
        "        return\n",
        "    for i, task in enumerate(todo_list):\n",
        "        status = \"✔ Done\" if task['done'] else \"❌ Pending\"\n",
        "        print(f\"{i}. {task['name']} - {status}\")\n",
        "\n",
        "def main():\n",
        "    todo_list = []\n",
        "\n",
        "    while True:\n",
        "        display_menu()\n",
        "        choice = input(\"Enter your choice (1-6): \")\n",
        "\n",
        "        if choice == \"1\":\n",
        "            add_task(todo_list)\n",
        "        elif choice == \"2\":\n",
        "            remove_task(todo_list)\n",
        "        elif choice == \"3\":\n",
        "            mark_task_done(todo_list)\n",
        "        elif choice == \"4\":\n",
        "            show_pending_tasks(todo_list)\n",
        "        elif choice == \"5\":\n",
        "            show_all_tasks(todo_list)\n",
        "        elif choice == \"6\":\n",
        "            print(\"Exiting To-Do List Manager. Goodbye!\")\n",
        "            break\n",
        "        else:\n",
        "            print(\"Invalid choice. Please try again.\")\n",
        "\n",
        "# Run the to-do manager\n",
        "main()\n"
      ],
      "metadata": {
        "colab": {
          "base_uri": "https://localhost:8080/"
        },
        "id": "3P5oSQCLUVz1",
        "outputId": "e9a01d64-4ac4-4979-baf5-cae2ef6a296e"
      },
      "execution_count": null,
      "outputs": [
        {
          "output_type": "stream",
          "name": "stdout",
          "text": [
            "\n",
            "=== TO-DO LIST MENU ===\n",
            "1. Add a Task\n",
            "2. Remove a Task\n",
            "3. Mark Task as Done\n",
            "4. Display Pending Tasks\n",
            "5. Show All Tasks\n",
            "6. Exit\n",
            "Enter your choice (1-6): 1\n",
            "Enter task name: buy groceries \n",
            "Task 'buy groceries ' added.\n",
            "\n",
            "=== TO-DO LIST MENU ===\n",
            "1. Add a Task\n",
            "2. Remove a Task\n",
            "3. Mark Task as Done\n",
            "4. Display Pending Tasks\n",
            "5. Show All Tasks\n",
            "6. Exit\n",
            "Enter your choice (1-6): 3\n",
            "\n",
            "=== All Tasks ===\n",
            "0. buy groceries  - ❌ Pending\n",
            "Enter task number to mark as done: 0\n",
            "Task 'buy groceries ' marked as done.\n",
            "\n",
            "=== TO-DO LIST MENU ===\n",
            "1. Add a Task\n",
            "2. Remove a Task\n",
            "3. Mark Task as Done\n",
            "4. Display Pending Tasks\n",
            "5. Show All Tasks\n",
            "6. Exit\n",
            "Enter your choice (1-6): 4\n",
            "\n",
            "=== Pending Tasks ===\n",
            "No pending tasks.\n",
            "\n",
            "=== TO-DO LIST MENU ===\n",
            "1. Add a Task\n",
            "2. Remove a Task\n",
            "3. Mark Task as Done\n",
            "4. Display Pending Tasks\n",
            "5. Show All Tasks\n",
            "6. Exit\n",
            "Enter your choice (1-6): 5\n",
            "\n",
            "=== All Tasks ===\n",
            "0. buy groceries  - ✔ Done\n",
            "\n",
            "=== TO-DO LIST MENU ===\n",
            "1. Add a Task\n",
            "2. Remove a Task\n",
            "3. Mark Task as Done\n",
            "4. Display Pending Tasks\n",
            "5. Show All Tasks\n",
            "6. Exit\n",
            "Enter your choice (1-6): 6\n",
            "Exiting To-Do List Manager. Goodbye!\n",
            "\n",
            "=== TO-DO LIST MENU ===\n",
            "1. Add a Task\n",
            "2. Remove a Task\n",
            "3. Mark Task as Done\n",
            "4. Display Pending Tasks\n",
            "5. Show All Tasks\n",
            "6. Exit\n",
            "Enter your choice (1-6): 6\n",
            "Exiting To-Do List Manager. Goodbye!\n"
          ]
        }
      ]
    },
    {
      "cell_type": "markdown",
      "source": [
        "14. Age Calculator:\n",
        "Calculate a person's age based on their date of birth"
      ],
      "metadata": {
        "id": "hxAaodbfiHAL"
      }
    },
    {
      "cell_type": "code",
      "source": [
        " from datetime import datetime\n",
        "\n",
        "def calculate_age(dob_str):\n",
        "    try:\n",
        "        dob = datetime.strptime(dob_str, \"%Y-%m-%d\")\n",
        "    except ValueError:\n",
        "        print(\"Invalid date format. Please use YYYY-MM-DD.\")\n",
        "        return\n",
        "\n",
        "    today = datetime.today()\n",
        "    years = today.year - dob.year\n",
        "    months = today.month - dob.month\n",
        "    days = today.day - dob.day\n",
        "\n",
        "    # Adjust for past birthday\n",
        "    if days < 0:\n",
        "        months -= 1\n",
        "        days += (datetime(today.year, today.month, 1) - datetime(today.year, today.month - 1, 1)).days\n",
        "    if months < 0:\n",
        "        years -= 1\n",
        "        months += 12\n",
        "\n",
        "    print(f\"\\nYou are {years} years, {months} months, and {days} days old.\")\n",
        "\n",
        "# Main program\n",
        "dob_input = input(\"Enter your date of birth (YYYY-MM-DD): \")\n",
        "calculate_age(dob_input)\n"
      ],
      "metadata": {
        "colab": {
          "base_uri": "https://localhost:8080/"
        },
        "id": "eHIYDc8KdxZ8",
        "outputId": "64f686f6-de76-40f0-9d9d-cb7f15519818"
      },
      "execution_count": null,
      "outputs": [
        {
          "output_type": "stream",
          "name": "stdout",
          "text": [
            "Enter your date of birth (YYYY-MM-DD): 2003-04-11\n",
            "\n",
            "You are 22 years, 1 months, and 29 days old.\n"
          ]
        }
      ]
    },
    {
      "cell_type": "markdown",
      "source": [
        "15.Online Shopping Cart:\n",
        "Simulate a shopping cart where users can add, remove, and\n",
        "view items."
      ],
      "metadata": {
        "id": "61mqkQzoHZOQ"
      }
    },
    {
      "cell_type": "code",
      "source": [
        "# Simple Online Shopping Cart Program\n",
        "\n",
        "cart = []\n",
        "\n",
        "def show_menu():\n",
        "    print(\"\\n--- Shopping Cart Menu ---\")\n",
        "    print(\"1. Add item\")\n",
        "    print(\"2. Remove item\")\n",
        "    print(\"3. View cart\")\n",
        "    print(\"4. Quit\")\n",
        "\n",
        "def add_item():\n",
        "    item = input(\"Enter the item to add: \")\n",
        "    cart.append(item)\n",
        "    print(f\"'{item}' has been added to your cart.\")\n",
        "\n",
        "def remove_item():\n",
        "    item = input(\"Enter the item to remove: \")\n",
        "    if item in cart:\n",
        "        cart.remove(item)\n",
        "        print(f\"'{item}' has been removed from your cart.\")\n",
        "    else:\n",
        "        print(f\"'{item}' not found in the cart.\")\n",
        "\n",
        "def view_cart():\n",
        "    if cart:\n",
        "        print(\"\\nItems in your cart:\")\n",
        "        for i, item in enumerate(cart, start=1):\n",
        "            print(f\"{i}. {item}\")\n",
        "    else:\n",
        "        print(\"Your cart is empty.\")\n",
        "\n",
        "# Main loop\n",
        "while True:\n",
        "    show_menu()\n",
        "    choice = input(\"Enter your choice (1-4): \")\n",
        "\n",
        "    if choice == '1':\n",
        "        add_item()\n",
        "    elif choice == '2':\n",
        "        remove_item()\n",
        "    elif choice == '3':\n",
        "        view_cart()\n",
        "    elif choice == '4':\n",
        "        print(\"Thank you for shopping. Goodbye!\")\n",
        "        break\n",
        "    else:\n",
        "        print(\"Invalid choice. Please try again.\")\n"
      ],
      "metadata": {
        "colab": {
          "base_uri": "https://localhost:8080/"
        },
        "id": "oPwCxGCyHTPj",
        "outputId": "0059d1a5-fa9d-4e3e-c44d-49f9eff0034d"
      },
      "execution_count": null,
      "outputs": [
        {
          "output_type": "stream",
          "name": "stdout",
          "text": [
            "\n",
            "--- Shopping Cart Menu ---\n",
            "1. Add item\n",
            "2. Remove item\n",
            "3. View cart\n",
            "4. Quit\n",
            "Enter your choice (1-4): 1\n",
            "Enter the item to add: book\n",
            "'book' has been added to your cart.\n",
            "\n",
            "--- Shopping Cart Menu ---\n",
            "1. Add item\n",
            "2. Remove item\n",
            "3. View cart\n",
            "4. Quit\n",
            "Enter your choice (1-4): 2\n",
            "Enter the item to remove: book\n",
            "'book' has been removed from your cart.\n",
            "\n",
            "--- Shopping Cart Menu ---\n",
            "1. Add item\n",
            "2. Remove item\n",
            "3. View cart\n",
            "4. Quit\n",
            "Enter your choice (1-4): 3\n",
            "Your cart is empty.\n",
            "\n",
            "--- Shopping Cart Menu ---\n",
            "1. Add item\n",
            "2. Remove item\n",
            "3. View cart\n",
            "4. Quit\n",
            "Enter your choice (1-4): 4\n",
            "Thank you for shopping. Goodbye!\n"
          ]
        }
      ]
    },
    {
      "cell_type": "markdown",
      "source": [
        "16.File Content Reverser:\n",
        "Take a text file as input and create a new file with its\n",
        "contents reversed."
      ],
      "metadata": {
        "id": "EAKTUJKbJ8_K"
      }
    },
    {
      "cell_type": "code",
      "source": [
        "# File Content Reverser\n",
        "\n",
        "# Input file name\n",
        "input_file = \"input.txt\"\n",
        "# Output file name\n",
        "output_file = \"reversed.txt\"\n",
        "\n",
        "# Read the content from the input file\n",
        "try:\n",
        "    with open(input_file, 'r') as f:\n",
        "        pass # File exists, do nothing\n",
        "except FileNotFoundError:\n",
        "    print(f\"Creating a dummy '{input_file}' file.\")\n",
        "    with open(input_file, 'w') as f:\n",
        "        f.write(\"This is a test sentence to be reversed.\")"
      ],
      "metadata": {
        "colab": {
          "base_uri": "https://localhost:8080/"
        },
        "id": "TtB20Dz5Hfhs",
        "outputId": "0e00cc45-2308-4739-9824-8505e08797e1"
      },
      "execution_count": null,
      "outputs": [
        {
          "output_type": "stream",
          "name": "stdout",
          "text": [
            "Creating a dummy 'input.txt' file.\n"
          ]
        }
      ]
    },
    {
      "cell_type": "markdown",
      "source": [
        "17.Employee Payroll System:\n",
        "Create a Python program that calculates an employee's\n",
        "salary after accounting for deductions like tax and adding\n",
        "bonuses. The program should allow the user to input the\n",
        "employee's base salary, tax percentage, and any bonuses.\n",
        "It should then calculate the amount deducted for taxes,\n",
        "add the bonus to the salary, and display the final salary\n",
        "after deductions and bonuses. The tax can be calculated\n",
        "as a percentage of the base salary, and the final salary will\n",
        "be the sum of the base salary minus tax plus any bonus"
      ],
      "metadata": {
        "id": "_Z1HX0OONmp2"
      }
    },
    {
      "cell_type": "code",
      "source": [
        "# Employee Payroll System\n",
        "\n",
        "# Input from user\n",
        "base_salary = float(input(\"Enter the base salary: ₹\"))\n",
        "tax_percent = float(input(\"Enter the tax percentage: \"))\n",
        "bonus = float(input(\"Enter the bonus amount: ₹\"))\n",
        "\n",
        "# Calculations\n",
        "tax_amount = (tax_percent / 100) * base_salary\n",
        "final_salary = base_salary - tax_amount + bonus\n",
        "\n",
        "# Output results\n",
        "print(\"\\n--- Salary Details ---\")\n",
        "print(f\"Base Salary     : ₹{base_salary:.2f}\")\n",
        "print(f\"Tax Deducted    : ₹{tax_amount:.2f}\")\n",
        "print(f\"Bonus Added     : ₹{bonus:.2f}\")\n",
        "print(f\"Final Salary    : ₹{final_salary:.2f}\")\n"
      ],
      "metadata": {
        "colab": {
          "base_uri": "https://localhost:8080/"
        },
        "id": "oNvFMBnOKCbm",
        "outputId": "13684262-e7a6-448e-adcc-bbfa9ac85f95"
      },
      "execution_count": null,
      "outputs": [
        {
          "output_type": "stream",
          "name": "stdout",
          "text": [
            "Enter the base salary: ₹75000\n",
            "Enter the tax percentage: 7.5\n",
            "Enter the bonus amount: ₹20000\n",
            "\n",
            "--- Salary Details ---\n",
            "Base Salary     : ₹75000.00\n",
            "Tax Deducted    : ₹5625.00\n",
            "Bonus Added     : ₹20000.00\n",
            "Final Salary    : ₹89375.00\n",
            "Enter the base salary: ₹50000\n",
            "Enter the tax percentage: 10\n",
            "Enter the bonus amount: ₹2000\n",
            "\n",
            "--- Salary Details ---\n",
            "Base Salary     : ₹50000.00\n",
            "Tax Deducted    : ₹5000.00\n",
            "Bonus Added     : ₹2000.00\n",
            "Final Salary    : ₹47000.00\n"
          ]
        }
      ]
    },
    {
      "cell_type": "markdown",
      "source": [
        "18.Bank Loan Calculator:\n",
        "Calculate monthly payments for a loan based on principal,\n",
        "rate, and time."
      ],
      "metadata": {
        "id": "5-ydtvmhTPPc"
      }
    },
    {
      "cell_type": "code",
      "source": [
        "# Bank Loan Calculator\n",
        "\n",
        "# Input from user\n",
        "principal = float(input(\"Enter the loan amount (principal): ₹\"))\n",
        "annual_rate = float(input(\"Enter the annual interest rate (in %): \"))\n",
        "years = int(input(\"Enter the loan period (in years): \"))\n",
        "\n",
        "# Convert annual rate to monthly rate and years to months\n",
        "monthly_rate = annual_rate / (12 * 100)\n",
        "months = years * 12\n",
        "\n",
        "# Monthly payment calculation using EMI formula\n",
        "# EMI = [P * R * (1+R)^N] / [(1+R)^N - 1]\n",
        "emi = (principal * monthly_rate * (1 + monthly_rate)**months) / ((1 + monthly_rate)**months - 1)\n",
        "\n",
        "# Output result\n",
        "print(f\"\\nMonthly EMI: ₹{emi:.2f}\")\n"
      ],
      "metadata": {
        "colab": {
          "base_uri": "https://localhost:8080/"
        },
        "id": "CRhcyMF7Nr_v",
        "outputId": "1db0f09e-8ba0-4123-d4a0-88dd3a7e11d1"
      },
      "execution_count": null,
      "outputs": [
        {
          "output_type": "stream",
          "name": "stdout",
          "text": [
            "Enter the loan amount (principal): ₹250000\n",
            "Enter the annual interest rate (in %): 2\n",
            "Enter the loan period (in years): 4\n",
            "\n",
            "Monthly EMI: ₹5423.78\n"
          ]
        }
      ]
    },
    {
      "cell_type": "markdown",
      "source": [
        "19.Simple Encryption and Decryption:\n",
        "Implement a basic Caesar cipher to encrypt and decrypt\n",
        "messages"
      ],
      "metadata": {
        "id": "N2veoA05ZIXD"
      }
    },
    {
      "cell_type": "code",
      "source": [
        "# Caesar Cipher - Simple Encryption and Decryption\n",
        "\n",
        "def encrypt(text, shift):\n",
        "    result = \"\"\n",
        "    for char in text:\n",
        "        if char.isalpha():\n",
        "            base = ord('A') if char.isupper() else ord('a')\n",
        "            result += chr((ord(char) - base + shift) % 26 + base)\n",
        "        else:\n",
        "            result += char\n",
        "    return result\n",
        "\n",
        "def decrypt(text, shift):\n",
        "    return encrypt(text, -shift)\n",
        "\n",
        "# User input\n",
        "message = input(\"Enter the message: \")\n",
        "shift = int(input(\"Enter the shift value: \"))\n",
        "\n",
        "# Encrypt and Decrypt\n",
        "encrypted_message = encrypt(message, shift)\n",
        "decrypted_message = decrypt(encrypted_message, shift)\n",
        "\n",
        "# Output\n",
        "print(\"\\n--- Caesar Cipher ---\")\n",
        "print(f\"Original Message : {message}\")\n",
        "print(f\"Encrypted Message: {encrypted_message}\")\n",
        "print(f\"Decrypted Message: {decrypted_message}\")\n"
      ],
      "metadata": {
        "colab": {
          "base_uri": "https://localhost:8080/"
        },
        "id": "ypbzAYTcTUrg",
        "outputId": "5d425db9-1586-4c10-e7eb-ef205646d678"
      },
      "execution_count": null,
      "outputs": [
        {
          "output_type": "stream",
          "name": "stdout",
          "text": [
            "Enter the message: hello world\n",
            "Enter the shift value: 5\n",
            "\n",
            "--- Caesar Cipher ---\n",
            "Original Message : hello world\n",
            "Encrypted Message: mjqqt btwqi\n",
            "Decrypted Message: hello world\n"
          ]
        }
      ]
    },
    {
      "cell_type": "markdown",
      "source": [
        "20.Movie Ticket Booking System:\n",
        "Write a program to book movie tickets by selecting movie,\n",
        "time, and number of seats. Prints the tickets with price"
      ],
      "metadata": {
        "id": "55h_1oV9eD1x"
      }
    },
    {
      "cell_type": "code",
      "source": [
        "# Movie Ticket Booking System\n",
        "\n",
        "# Available movies and showtimes\n",
        "movies = {\n",
        "    \"1\": {\"name\": \"Avengers: Endgame\", \"times\": [\"10:00 AM\", \"1:00 PM\", \"6:00 PM\"]},\n",
        "    \"2\": {\"name\": \"Inception\", \"times\": [\"11:00 AM\", \"3:00 PM\", \"8:00 PM\"]},\n",
        "    \"3\": {\"name\": \"Interstellar\", \"times\": [\"9:00 AM\", \"12:00 PM\", \"5:00 PM\"]}\n",
        "}\n",
        "\n",
        "ticket_price = 150  # per seat\n",
        "\n",
        "# Display movie options\n",
        "print(\"Available Movies:\")\n",
        "for key, movie in movies.items():\n",
        "    print(f\"{key}. {movie['name']}\")\n",
        "\n",
        "# Get user input\n",
        "movie_choice = input(\"Select a movie (1/2/3): \")\n",
        "selected_movie = movies.get(movie_choice)\n",
        "\n",
        "if selected_movie:\n",
        "    print(f\"\\nAvailable showtimes for {selected_movie['name']}:\")\n",
        "    for idx, time in enumerate(selected_movie[\"times\"], start=1):\n",
        "        print(f\"{idx}. {time}\")\n",
        "\n",
        "    time_choice = int(input(\"Select a showtime (1/2/3): \"))\n",
        "    num_seats = int(input(\"Enter number of seats: \"))\n",
        "\n",
        "    if 1 <= time_choice <= len(selected_movie[\"times\"]):\n",
        "        selected_time = selected_movie[\"times\"][time_choice - 1]\n",
        "        total_price = ticket_price * num_seats\n",
        "\n",
        "        # Print ticket\n",
        "        print(\"\\n--- Ticket ---\")\n",
        "        print(f\"Movie       : {selected_movie['name']}\")\n",
        "        print(f\"Showtime    : {selected_time}\")\n",
        "        print(f\"Seats       : {num_seats}\")\n",
        "        print(f\"Price/Seat  : ₹{ticket_price}\")\n",
        "        print(f\"Total Price : ₹{total_price}\")\n",
        "        print(\"-------------------\")\n",
        "    else:\n",
        "        print(\"Invalid showtime selection.\")\n",
        "else:\n",
        "    print(\"Invalid movie selection.\")"
      ],
      "metadata": {
        "colab": {
          "base_uri": "https://localhost:8080/"
        },
        "id": "HOBMKrsNZQOq",
        "outputId": "71079cb9-eba8-4d50-8b5a-333531137692"
      },
      "execution_count": null,
      "outputs": [
        {
          "output_type": "stream",
          "name": "stdout",
          "text": [
            "Available Movies:\n",
            "1. Avengers: Endgame\n",
            "2. Inception\n",
            "3. Interstellar\n",
            "Select a movie (1/2/3): 1\n",
            "\n",
            "Available showtimes for Avengers: Endgame:\n",
            "1. 10:00 AM\n",
            "2. 1:00 PM\n",
            "3. 6:00 PM\n",
            "Select a showtime (1/2/3): 3\n",
            "Enter number of seats: 2\n",
            "\n",
            "--- Ticket ---\n",
            "Movie       : Avengers: Endgame\n",
            "Showtime    : 6:00 PM\n",
            "Seats       : 2\n",
            "Price/Seat  : ₹150\n",
            "Total Price : ₹300\n",
            "-------------------\n"
          ]
        }
      ]
    },
    {
      "cell_type": "markdown",
      "source": [
        "21.BMI Calculator:\n",
        "Create a Python program that calculates the Body Mass\n",
        "Index (BMI) based on the user's height and weight. The\n",
        "BMI can be calculated using the following formula:\n",
        "The program should prompt the user to input their weight\n",
        "and height, calculate the BMI using the above formula,\n",
        "and then categorize the BMI according to standard ranges:\n",
        "Underweight: BMI < 18.5\n",
        "Normal weight: 18.5 <= BMI < 24.9\n",
        "Overweight: 25 <= BMI < 29.9\n",
        "Obesity: BMI >= 30\n",
        "The program should then display the BMI value along with\n",
        "the corresponding category"
      ],
      "metadata": {
        "id": "jtOGPNhrNZ7t"
      }
    },
    {
      "cell_type": "code",
      "source": [
        "# BMI Calculator\n",
        "\n",
        "# Get user input\n",
        "weight = float(input(\"Enter your weight in kilograms (kg): \"))\n",
        "height = float(input(\"Enter your height in meters (m): \"))\n",
        "\n",
        "# Calculate BMI\n",
        "bmi = weight / (height ** 2)\n",
        "\n",
        "# Determine the category\n",
        "if bmi < 18.5:\n",
        "    category = \"Underweight\"\n",
        "elif 18.5 <= bmi < 24.9:\n",
        "    category = \"Normal weight\"\n",
        "elif 25 <= bmi < 29.9:\n",
        "    category = \"Overweight\"\n",
        "else:\n",
        "    category = \"Obesity\"\n",
        "\n",
        "# Display the result\n",
        "print(f\"\\nYour BMI is: {bmi:.2f}\")\n",
        "print(f\"Category: {category}\")\n"
      ],
      "metadata": {
        "id": "g93TIWQ8eMae",
        "colab": {
          "base_uri": "https://localhost:8080/"
        },
        "outputId": "9d12a0f4-2aad-45ad-a00d-a08d85b77d11"
      },
      "execution_count": null,
      "outputs": [
        {
          "output_type": "stream",
          "name": "stdout",
          "text": [
            "Enter your weight in kilograms (kg): 65\n",
            "Enter your height in meters (m): 1.75\n",
            "\n",
            "Your BMI is: 21.22\n",
            "Category: Normal weight\n"
          ]
        }
      ]
    },
    {
      "cell_type": "markdown",
      "source": [
        "22.Dice Rolling Simulator:\n",
        "Simulate rolling two dice and print the results"
      ],
      "metadata": {
        "id": "4B-Yxku3RyPq"
      }
    },
    {
      "cell_type": "code",
      "source": [
        "import random\n",
        "\n",
        "# Simulate rolling two dice\n",
        "dice1 = random.randint(1, 6)\n",
        "dice2 = random.randint(1, 6)\n",
        "total = dice1 + dice2\n",
        "\n",
        "# Display the result\n",
        "print(f\"🎲 Dice 1: {dice1}\")\n",
        "print(f\"🎲 Dice 2: {dice2}\")\n",
        "print(f\"🔢 Total: {total}\")\n"
      ],
      "metadata": {
        "colab": {
          "base_uri": "https://localhost:8080/"
        },
        "id": "FkdfFVhmQipP",
        "outputId": "4accba9f-7d40-41d7-ff4e-36b58548d61f"
      },
      "execution_count": null,
      "outputs": [
        {
          "output_type": "stream",
          "name": "stdout",
          "text": [
            "🎲 Dice 1: 4\n",
            "🎲 Dice 2: 3\n",
            "🔢 Total: 7\n"
          ]
        }
      ]
    },
    {
      "cell_type": "markdown",
      "source": [
        "23.Email Parser:\n",
        "Validate if a given string is a valid email address.\n",
        "Extract the username and domain from an email address"
      ],
      "metadata": {
        "id": "zfz8lAg8VCpz"
      }
    },
    {
      "cell_type": "code",
      "source": [
        "email = input(\"Enter your email address: \")\n",
        "\n",
        "# Check if '@' is present exactly once and '.' exists after it\n",
        "if email.count('@') == 1 and '.' in email.split('@')[1]:\n",
        "    username, domain = email.split('@')\n",
        "    print(\"\\n✅ Valid Email Address!\")\n",
        "    print(f\"👤 Username: {username}\")\n",
        "    print(f\"🌐 Domain: {domain}\")\n",
        "else:\n",
        "    print(\"\\n❌ Invalid Email Address!\")\n"
      ],
      "metadata": {
        "colab": {
          "base_uri": "https://localhost:8080/"
        },
        "id": "bjQK71_JR4L2",
        "outputId": "7d344ee2-8640-4194-fd5f-f76eabacc3d6"
      },
      "execution_count": null,
      "outputs": [
        {
          "output_type": "stream",
          "name": "stdout",
          "text": [
            "Enter your email address: john123@gmail.com\n",
            "\n",
            "✅ Valid Email Address!\n",
            "👤 Username: john123\n",
            "🌐 Domain: gmail.com\n"
          ]
        }
      ]
    },
    {
      "cell_type": "markdown",
      "source": [
        "24.Ticket Fare Calculator:\n",
        "Create a Python program that calculates the fare for a\n",
        "journey based on the distance traveled and the type of\n",
        "passenger (adult, child, or senior). The program should\n",
        "prompt the user to input the distance traveled (in\n",
        "kilometers) and the type of passenger. Based on this\n",
        "input, the fare will be calculated using predefined rates for\n",
        "each type of passenger. For example:\n",
        "Adult: $5 per kilometer\n",
        "Child: $3 per kilometer\n",
        "Senior: $4 per kilometer\n",
        "The program should apply the appropriate fare rate based\n",
        "on the passenger type and distance travelled, then display\n",
        "the total fare. Additionally, the program could provide a\n",
        "discount for seniors, if applicable"
      ],
      "metadata": {
        "id": "x_qiHtkdZYd-"
      }
    },
    {
      "cell_type": "code",
      "source": [
        " # Define fare rates\n",
        "fare_rates = {\n",
        "    'adult': 5,\n",
        "    'child': 3,\n",
        "    'senior': 4\n",
        "}\n",
        "\n",
        "# Input\n",
        "distance = float(input(\"Enter distance traveled (in km): \"))\n",
        "passenger_type = input(\"Enter passenger type (adult/child/senior): \").lower()\n",
        "\n",
        "# Validate passenger type\n",
        "if passenger_type in fare_rates:\n",
        "    rate = fare_rates[passenger_type]\n",
        "    total_fare = rate * distance\n",
        "\n",
        "    # Optional discount for seniors\n",
        "    if passenger_type == 'senior':\n",
        "        discount = 0.10  # 10% discount\n",
        "        total_fare -= total_fare * discount\n",
        "\n",
        "    # Output result\n",
        "    print(f\"\\nPassenger Type: {passenger_type.capitalize()}\")\n",
        "    print(f\"Distance: {distance} km\")\n",
        "    print(f\"Total Fare: ${total_fare:.2f}\")\n",
        "else:\n",
        "    print(\"\\n❌ Invalid passenger type. Please enter 'adult', 'child', or 'senior'.\")\n"
      ],
      "metadata": {
        "colab": {
          "base_uri": "https://localhost:8080/"
        },
        "id": "WIV6xoOuVn-A",
        "outputId": "35315ca3-dcfe-44cc-dafa-6ae91e78ab71"
      },
      "execution_count": null,
      "outputs": [
        {
          "output_type": "stream",
          "name": "stdout",
          "text": [
            "Enter distance traveled (in km): 650\n",
            "Enter passenger type (adult/child/senior): adult\n",
            "\n",
            "Passenger Type: Adult\n",
            "Distance: 650.0 km\n",
            "Total Fare: $3250.00\n"
          ]
        }
      ]
    },
    {
      "cell_type": "markdown",
      "source": [
        "25.Digital Dice Game:\n",
        "Create a Python program that simulates rolling a digital dice.\n",
        "The program should allow the user to roll the dice, and based\n",
        "on the outcome, track the number of wins and losses.\n",
        "For example:\n",
        "A win is recorded if the dice roll matches a pre-determined\n",
        "\"winning number\" (for example, 6).\n",
        "1.\n",
        "2.A loss is recorded if the dice roll is any other number.\n",
        "The program should continue asking the user if they want to\n",
        "roll again, and it should keep track of the total wins and losses.\n",
        "After the user decides to stop, the program should display the\n",
        "final score, showing the number of wins and losses"
      ],
      "metadata": {
        "id": "U9bcV-CNelRW"
      }
    },
    {
      "cell_type": "code",
      "source": [
        "import random\n",
        "\n",
        "# Initialize counters\n",
        "wins = 0\n",
        "losses = 0\n",
        "winning_number = 6\n",
        "\n",
        "print(\"🎲 Welcome to the Digital Dice Game!\")\n",
        "print(\"Win if you roll a 6.\\n\")\n",
        "\n",
        "while True:\n",
        "    choice = input(\"Do you want to roll the dice? (yes/no): \").lower()\n",
        "\n",
        "    if choice == 'yes':\n",
        "        roll = random.randint(1, 6)\n",
        "        print(f\"👉 You rolled: {roll}\")\n",
        "\n",
        "        if roll == winning_number:\n",
        "            print(\"🎉 You Win!\")\n",
        "            wins += 1\n",
        "        else:\n",
        "            print(\"😞 You Lose.\")\n",
        "            losses += 1\n",
        "    elif choice == 'no':\n",
        "        break\n",
        "    else:\n",
        "        print(\"❗ Please enter 'yes' or 'no'.\")\n",
        "\n",
        "# Final score\n",
        "print(\"\\n📊 Final Score:\")\n",
        "print(f\"✅ Wins: {wins}\")\n",
        "print(f\"❌ Losses: {losses}\")\n",
        "print(\"Thanks for playing! 🎉\")\n"
      ],
      "metadata": {
        "colab": {
          "base_uri": "https://localhost:8080/"
        },
        "id": "pQ9KnLaybv1s",
        "outputId": "b07fb822-fe37-4939-c718-33b7b96c4fbc"
      },
      "execution_count": null,
      "outputs": [
        {
          "output_type": "stream",
          "name": "stdout",
          "text": [
            "🎲 Welcome to the Digital Dice Game!\n",
            "Win if you roll a 6.\n",
            "\n",
            "Do you want to roll the dice? (yes/no): yes\n",
            "👉 You rolled: 1\n",
            "😞 You Lose.\n",
            "Do you want to roll the dice? (yes/no): yes\n",
            "👉 You rolled: 2\n",
            "😞 You Lose.\n",
            "Do you want to roll the dice? (yes/no): yes\n",
            "👉 You rolled: 1\n",
            "😞 You Lose.\n",
            "Do you want to roll the dice? (yes/no): yes\n",
            "👉 You rolled: 4\n",
            "😞 You Lose.\n",
            "Do you want to roll the dice? (yes/no): yes\n",
            "👉 You rolled: 1\n",
            "😞 You Lose.\n",
            "Do you want to roll the dice? (yes/no): yes\n",
            "👉 You rolled: 1\n",
            "😞 You Lose.\n",
            "Do you want to roll the dice? (yes/no): yes\n",
            "👉 You rolled: 2\n",
            "😞 You Lose.\n",
            "Do you want to roll the dice? (yes/no): yes\n",
            "👉 You rolled: 2\n",
            "😞 You Lose.\n",
            "Do you want to roll the dice? (yes/no): yes\n",
            "👉 You rolled: 4\n",
            "😞 You Lose.\n",
            "Do you want to roll the dice? (yes/no): yes\n",
            "👉 You rolled: 2\n",
            "😞 You Lose.\n",
            "Do you want to roll the dice? (yes/no): yes\n",
            "👉 You rolled: 2\n",
            "😞 You Lose.\n",
            "Do you want to roll the dice? (yes/no): yes\n",
            "👉 You rolled: 6\n",
            "🎉 You Win!\n",
            "Do you want to roll the dice? (yes/no): no\n",
            "\n",
            "📊 Final Score:\n",
            "✅ Wins: 1\n",
            "❌ Losses: 11\n",
            "Thanks for playing! 🎉\n"
          ]
        }
      ]
    },
    {
      "cell_type": "markdown",
      "source": [
        "26.Shopping Discount System:\n",
        "Apply Different Discount Percentages Based on Purchase Amount\n",
        "Create a Python program that applies different discount\n",
        "percentages based on the total purchase amount. The program\n",
        "should prompt the user for the total purchase amount and then\n",
        "apply the following discount rules:\n",
        "1.Purchase amount < $50: No discount.\n",
        "2.Purchase amount between $50 and $100: 10% discount.\n",
        "3.Purchase amount between $100 and $200: 15% discount.\n",
        "4.Purchase amount > $200: 20% discount.\n",
        "The program should calculate the discount based on the total and\n",
        "display the final amount after applying the discount"
      ],
      "metadata": {
        "id": "ovaYbglzluRp"
      }
    },
    {
      "cell_type": "code",
      "source": [
        "# Get the total purchase amount\n",
        "amount = float(input(\"Enter the total purchase amount ($): \"))\n",
        "\n",
        "# Determine discount percentage\n",
        "if amount < 50:\n",
        "    discount_percent = 0\n",
        "elif amount <= 100:\n",
        "    discount_percent = 10\n",
        "elif amount <= 200:\n",
        "    discount_percent = 15\n",
        "else:\n",
        "    discount_percent = 20\n",
        "\n",
        "# Calculate discount and final amount\n",
        "discount = (discount_percent / 100) * amount\n",
        "final_amount = amount - discount\n",
        "\n",
        "# Display the result\n",
        "print(f\"\\nPurchase Amount: ${amount:.2f}\")\n",
        "print(f\"Discount Applied: {discount_percent}%\")\n",
        "print(f\"Discount Amount: ${discount:.2f}\")\n",
        "print(f\"Final Amount to Pay: ${final_amount:.2f}\")\n"
      ],
      "metadata": {
        "colab": {
          "base_uri": "https://localhost:8080/"
        },
        "id": "eK1PLdrbe00C",
        "outputId": "c2651428-ac3c-470e-d92e-b39739bb536e"
      },
      "execution_count": null,
      "outputs": [
        {
          "output_type": "stream",
          "name": "stdout",
          "text": [
            "Enter the total purchase amount ($): 475\n",
            "\n",
            "Purchase Amount: $475.00\n",
            "Discount Applied: 20%\n",
            "Discount Amount: $95.00\n",
            "Final Amount to Pay: $380.00\n"
          ]
        }
      ]
    },
    {
      "cell_type": "markdown",
      "source": [
        "27.Generate a Simple Invoice for a Customer Based on Items\n",
        "Purchased, Quantities, and Prices\n",
        "Create a Python program that generates a simple invoice for a customer. The program\n",
        "should allow the user to input the name, price, and quantity of items purchased. It should\n",
        "then calculate the total cost for each item (price × quantity), display the itemized list, and\n",
        "include a final total for the invoice. If applicable, it should apply the discount from the\n",
        "previous section to the total cost and display the final amount.\n",
        "Here's a possible structure for the invoice:\n",
        "1.Item name\n",
        "2.Item price\n",
        "3.Item quantity\n",
        "4.Total for that item\n",
        "5.Subtotal of all items\n",
        "6.Discount applied (if any)\n",
        "7.Final amount to be paid"
      ],
      "metadata": {
        "id": "KvDz-DlAoF2v"
      }
    },
    {
      "cell_type": "code",
      "source": [
        "# List to store item details\n",
        "items = []\n",
        "\n",
        "# Take user input for items\n",
        "while True:\n",
        "    name = input(\"\\nEnter item name (or 'done' to finish): \")\n",
        "    if name.lower() == 'done':\n",
        "        break\n",
        "    price = float(input(\"Enter price of the item ($): \"))\n",
        "    quantity = int(input(\"Enter quantity: \"))\n",
        "\n",
        "    total = price * quantity\n",
        "    items.append({'name': name, 'price': price, 'quantity': quantity, 'total': total})\n",
        "\n",
        "# Calculate subtotal\n",
        "subtotal = sum(item['total'] for item in items)\n",
        "\n",
        "# Apply discount\n",
        "if subtotal < 50:\n",
        "    discount_percent = 0\n",
        "elif subtotal <= 100:\n",
        "    discount_percent = 10\n",
        "elif subtotal <= 200:\n",
        "    discount_percent = 15\n",
        "else:\n",
        "    discount_percent = 20\n",
        "\n",
        "discount = (discount_percent / 100) * subtotal\n",
        "final_total = subtotal - discount\n",
        "\n",
        "# Display the invoice\n",
        "print(\"\\n🧾 Invoice\")\n",
        "print(\"-\" * 40)\n",
        "print(f\"{'Item':<15}{'Price':<10}{'Qty':<5}{'Total':<10}\")\n",
        "print(\"-\" * 40)\n",
        "for item in items:\n",
        "    print(f\"{item['name']:<15}${item['price']:<10.2f}{item['quantity']:<5}${item['total']:<.2f}\")\n",
        "print(\"-\" * 40)\n",
        "print(f\"{'Subtotal':<30} ${subtotal:.2f}\")\n",
        "print(f\"Discount ({discount_percent}%){'':<17} -${discount:.2f}\")\n",
        "print(f\"{'Final Amount':<30} ${final_total:.2f}\")\n",
        "print(\"-\" * 40)\n",
        "print(\"✅ Thank you for shopping!\")\n"
      ],
      "metadata": {
        "colab": {
          "base_uri": "https://localhost:8080/"
        },
        "id": "wBjvygCBlwGu",
        "outputId": "d6fbe257-2f9a-4493-c87b-d4610921e004"
      },
      "execution_count": null,
      "outputs": [
        {
          "output_type": "stream",
          "name": "stdout",
          "text": [
            "\n",
            "Enter item name (or 'done' to finish): soft drink\n",
            "Enter price of the item ($): 20\n",
            "Enter quantity: 1\n",
            "\n",
            "Enter item name (or 'done' to finish): done\n",
            "\n",
            "🧾 Invoice\n",
            "----------------------------------------\n",
            "Item           Price     Qty  Total     \n",
            "----------------------------------------\n",
            "soft drink     $20.00     1    $20.00\n",
            "----------------------------------------\n",
            "Subtotal                       $20.00\n",
            "Discount (0%)                  -$0.00\n",
            "Final Amount                   $20.00\n",
            "----------------------------------------\n",
            "✅ Thank you for shopping!\n"
          ]
        }
      ]
    },
    {
      "cell_type": "code",
      "source": [],
      "metadata": {
        "id": "UvZJ3jZgoOlf"
      },
      "execution_count": null,
      "outputs": []
    }
  ]
}